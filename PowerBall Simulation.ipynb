{
 "cells": [
  {
   "cell_type": "code",
   "execution_count": null,
   "metadata": {},
   "outputs": [],
   "source": [
    "# Rules: choose 5 numbers between 0 and 50, and a PowerBall number between 1 and 20\n",
    "\n",
    "# The \"strange\" result had the first 5 numbers from a consecutive set, and the PowerBall\n",
    "# number part of - but not overlapping with - this set: 5, 6, 7, 8, 9 and (PB) 10."
   ]
  },
  {
   "cell_type": "code",
   "execution_count": 1,
   "metadata": {},
   "outputs": [],
   "source": [
    "import numpy as np"
   ]
  },
  {
   "cell_type": "code",
   "execution_count": 35,
   "metadata": {},
   "outputs": [],
   "source": [
    "main_bag = np.arange(1, 51)\n",
    "powerball_bag = np.arange(1,21)\n",
    "def powerball_draw():\n",
    "    main_draw = np.random.choice(main_bag, 5, replace=False)\n",
    "    powerball_draw = np.random.choice(powerball_bag, 1)\n",
    "    return np.concatenate([main_draw, powerball_draw])"
   ]
  },
  {
   "cell_type": "code",
   "execution_count": 6,
   "metadata": {},
   "outputs": [],
   "source": [
    "def is_result_strange(r):\n",
    "    # Order doesn't matter - we just need to check the \n",
    "    # largest and smallest value and see if they differ\n",
    "    # by exactly 5.\n",
    "    return r.max() - r.min() == 5"
   ]
  },
  {
   "cell_type": "code",
   "execution_count": 8,
   "metadata": {},
   "outputs": [],
   "source": [
    "# Simple strange case\n",
    "a = np.array([1,2,3,4,5,6])\n",
    "assert is_result_strange(a) == True"
   ]
  },
  {
   "cell_type": "code",
   "execution_count": 11,
   "metadata": {},
   "outputs": [],
   "source": [
    "# Example of being off by one\n",
    "b = np.array([1,2,3,4,5,7])\n",
    "assert is_result_strange(b) == False"
   ]
  },
  {
   "cell_type": "code",
   "execution_count": 12,
   "metadata": {},
   "outputs": [],
   "source": [
    "# Test overlapping PowerBall\n",
    "c = np.array([1,2,3,4,5,5])\n",
    "assert is_result_strange(c) == False"
   ]
  },
  {
   "cell_type": "code",
   "execution_count": 36,
   "metadata": {},
   "outputs": [],
   "source": [
    "draw_and_check = lambda x: is_result_strange(powerball_draw())\n",
    "draw_and_check_vec = np.vectorize(draw_and_check)"
   ]
  },
  {
   "cell_type": "code",
   "execution_count": 37,
   "metadata": {},
   "outputs": [],
   "source": [
    "# Simulate 10M rounds of PowerBall\n",
    "results = np.empty(int(1e7))\n",
    "final_results = draw_and_check_vec(results)"
   ]
  },
  {
   "cell_type": "code",
   "execution_count": 40,
   "metadata": {},
   "outputs": [
    {
     "data": {
      "text/plain": [
       "{False: 9999880, True: 120}"
      ]
     },
     "execution_count": 40,
     "metadata": {},
     "output_type": "execute_result"
    }
   ],
   "source": [
    "unique, counts = np.unique(final_results, return_counts=True)\n",
    "itemized_counts = dict(zip(unique, counts))\n",
    "itemized_counts"
   ]
  },
  {
   "cell_type": "code",
   "execution_count": 41,
   "metadata": {},
   "outputs": [
    {
     "data": {
      "text/plain": [
       "0.0012000000000000001"
      ]
     },
     "execution_count": 41,
     "metadata": {},
     "output_type": "execute_result"
    }
   ],
   "source": [
    "percentage_occurance = itemized_counts[True] / (itemized_counts[True] + itemized_counts[False]) * 100.0\n",
    "percentage_occurance"
   ]
  },
  {
   "cell_type": "code",
   "execution_count": 45,
   "metadata": {},
   "outputs": [
    {
     "name": "stdout",
     "output_type": "stream",
     "text": [
      "The odds of this occuring are 1 in  83333\n"
     ]
    }
   ],
   "source": [
    "print(\"The odds of this occuring are 1 in \", int(100.0 / percentage_occurance))"
   ]
  },
  {
   "cell_type": "code",
   "execution_count": null,
   "metadata": {},
   "outputs": [],
   "source": []
  }
 ],
 "metadata": {
  "kernelspec": {
   "display_name": "Python 3",
   "language": "python",
   "name": "python3"
  },
  "language_info": {
   "codemirror_mode": {
    "name": "ipython",
    "version": 3
   },
   "file_extension": ".py",
   "mimetype": "text/x-python",
   "name": "python",
   "nbconvert_exporter": "python",
   "pygments_lexer": "ipython3",
   "version": "3.8.0"
  }
 },
 "nbformat": 4,
 "nbformat_minor": 4
}
